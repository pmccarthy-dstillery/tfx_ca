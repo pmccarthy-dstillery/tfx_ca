{
 "metadata": {
  "language_info": {
   "codemirror_mode": {
    "name": "ipython",
    "version": 3
   },
   "file_extension": ".py",
   "mimetype": "text/x-python",
   "name": "python",
   "nbconvert_exporter": "python",
   "pygments_lexer": "ipython3",
   "version": "3.7.8-final"
  },
  "orig_nbformat": 2,
  "kernelspec": {
   "name": "python3",
   "display_name": "Python 3.7.8 64-bit ('tfxca': conda)",
   "metadata": {
    "interpreter": {
     "hash": "f84d90b4467cc5869f3afc42c1b8acce30112d3577f5c5f34ed6c11e805c8f33"
    }
   }
  }
 },
 "nbformat": 4,
 "nbformat_minor": 2,
 "cells": [
  {
   "source": [
    "## Kubeflow Pipelines Job Management"
   ],
   "cell_type": "markdown",
   "metadata": {}
  },
  {
   "cell_type": "code",
   "execution_count": 1,
   "metadata": {},
   "outputs": [],
   "source": [
    "PIPELINES_HOST='3fad3dc513a320a4-dot-us-central2.pipelines.googleusercontent.com/'\n",
    "PROJECT='dst-mlpipes'\n",
    "# BUCKET="
   ]
  },
  {
   "cell_type": "code",
   "execution_count": 2,
   "metadata": {},
   "outputs": [],
   "source": [
    "import kfp\n",
    "import os\n",
    "import datetime"
   ]
  },
  {
   "cell_type": "code",
   "execution_count": 60,
   "metadata": {},
   "outputs": [],
   "source": [
    "client = kfp.Client(host=PIPELINES_HOST)"
   ]
  },
  {
   "cell_type": "code",
   "execution_count": 5,
   "metadata": {},
   "outputs": [],
   "source": [
    "pipelines = client.list_pipelines()"
   ]
  },
  {
   "cell_type": "code",
   "execution_count": 22,
   "metadata": {},
   "outputs": [
    {
     "output_type": "execute_result",
     "data": {
      "text/plain": [
       "[{'created_at': datetime.datetime(2020, 12, 1, 20, 5, 34, tzinfo=tzlocal()),\n",
       "  'default_version': {'code_source_url': None,\n",
       "                      'created_at': datetime.datetime(2020, 12, 4, 20, 43, 27, tzinfo=tzlocal()),\n",
       "                      'id': '1adc5b5a-6782-415d-bb75-b009709cd4ab',\n",
       "                      'name': 'tfxca_version_at_2020-12-04T20:42:58.134Z',\n",
       "                      'package_url': None,\n",
       "                      'parameters': [{'name': 'pipeline-root',\n",
       "                                      'value': 'gs://tfxca-pipeline-artifacts'},\n",
       "                                     {'name': 'seed_pattern',\n",
       "                                      'value': 'meni|avw2'}],\n",
       "                      'resource_references': [{'key': {'id': '19ea39e4-fc67-4b7a-a2e7-bd752df8b117',\n",
       "                                                       'type': 'PIPELINE'},\n",
       "                                               'name': None,\n",
       "                                               'relationship': 'OWNER'}]},\n",
       "  'description': None,\n",
       "  'error': None,\n",
       "  'id': '19ea39e4-fc67-4b7a-a2e7-bd752df8b117',\n",
       "  'name': 'tfxca',\n",
       "  'parameters': [{'name': 'pipeline-root',\n",
       "                  'value': 'gs://tfxca-pipeline-artifacts'}],\n",
       "  'url': None}]"
      ]
     },
     "metadata": {},
     "execution_count": 22
    }
   ],
   "source": [
    "[x for i, x in enumerate(pipelines.pipelines) if x.name=='tfxca']"
   ]
  },
  {
   "cell_type": "code",
   "execution_count": 4,
   "metadata": {},
   "outputs": [
    {
     "output_type": "display_data",
     "data": {
      "text/plain": "<IPython.core.display.HTML object>",
      "text/html": "<a href=\"http://3fad3dc513a320a4-dot-us-central2.pipelines.googleusercontent.com//#/experiments/details/7a4f18cf-9c3d-4cd1-9608-c6709b6297ab\" target=\"_blank\" >Experiment details</a>."
     },
     "metadata": {}
    }
   ],
   "source": [
    "tfx_ca_exp = client.create_experiment(\"tfx_ca\", description=\"Test Crafted Audiences\")"
   ]
  },
  {
   "cell_type": "code",
   "execution_count": 8,
   "metadata": {},
   "outputs": [
    {
     "output_type": "execute_result",
     "data": {
      "text/plain": [
       "'7a4f18cf-9c3d-4cd1-9608-c6709b6297ab'"
      ]
     },
     "metadata": {},
     "execution_count": 8
    }
   ],
   "source": [
    "tfx_ca_exp.id"
   ]
  },
  {
   "cell_type": "code",
   "execution_count": 12,
   "metadata": {},
   "outputs": [
    {
     "output_type": "display_data",
     "data": {
      "text/plain": "<IPython.core.display.HTML object>",
      "text/html": "<a href=http://3fad3dc513a320a4-dot-us-central2.pipelines.googleusercontent.com//#/pipelines/details/3f814ae1-12e0-4ae6-8b6e-e9ff5d8806fd>Pipeline details</a>."
     },
     "metadata": {}
    },
    {
     "output_type": "execute_result",
     "data": {
      "text/plain": [
       "{'created_at': datetime.datetime(2020, 12, 8, 15, 57, 10, tzinfo=tzlocal()),\n",
       " 'default_version': {'code_source_url': None,\n",
       "                     'created_at': datetime.datetime(2020, 12, 8, 15, 57, 10, tzinfo=tzlocal()),\n",
       "                     'id': '3f814ae1-12e0-4ae6-8b6e-e9ff5d8806fd',\n",
       "                     'name': 'TFX Crafted Audience',\n",
       "                     'package_url': None,\n",
       "                     'parameters': [{'name': 'pipeline-root',\n",
       "                                     'value': 'gs://tfxca-pipeline-artifacts'},\n",
       "                                    {'name': 'seed_pattern',\n",
       "                                     'value': 'meni|avw2'}],\n",
       "                     'resource_references': [{'key': {'id': '3f814ae1-12e0-4ae6-8b6e-e9ff5d8806fd',\n",
       "                                                      'type': 'PIPELINE'},\n",
       "                                              'name': None,\n",
       "                                              'relationship': 'OWNER'}]},\n",
       " 'description': 'Test of Crafted Audience fitting, from '\n",
       "                'pmccarthy-dstillery/tfx_ca',\n",
       " 'error': None,\n",
       " 'id': '3f814ae1-12e0-4ae6-8b6e-e9ff5d8806fd',\n",
       " 'name': 'TFX Crafted Audience',\n",
       " 'parameters': [{'name': 'pipeline-root',\n",
       "                 'value': 'gs://tfxca-pipeline-artifacts'},\n",
       "                {'name': 'seed_pattern', 'value': 'meni|avw2'}],\n",
       " 'url': None}"
      ]
     },
     "metadata": {},
     "execution_count": 12
    }
   ],
   "source": [
    "client.upload_pipeline(pipeline_package_path='../tfxca.tar.gz',\n",
    "    pipeline_name=\"TFX Crafted Audience\",\n",
    "    description=\"Test of Crafted Audience fitting, from pmccarthy-dstillery/tfx_ca\")"
   ]
  },
  {
   "cell_type": "code",
   "execution_count": 13,
   "metadata": {},
   "outputs": [],
   "source": [
    "pipelines = client.list_pipelines()"
   ]
  },
  {
   "cell_type": "code",
   "execution_count": 29,
   "metadata": {},
   "outputs": [],
   "source": [
    "my_pipeline = [x for i, x in enumerate(pipelines.to_dict()['pipelines']) if x['name']==\"TFX Crafted Audience\"][0]"
   ]
  },
  {
   "cell_type": "code",
   "execution_count": 30,
   "metadata": {},
   "outputs": [
    {
     "output_type": "execute_result",
     "data": {
      "text/plain": [
       "{'id': '3f814ae1-12e0-4ae6-8b6e-e9ff5d8806fd',\n",
       " 'created_at': datetime.datetime(2020, 12, 8, 15, 57, 10, tzinfo=tzlocal()),\n",
       " 'name': 'TFX Crafted Audience',\n",
       " 'description': 'Test of Crafted Audience fitting, from pmccarthy-dstillery/tfx_ca',\n",
       " 'parameters': [{'name': 'pipeline-root',\n",
       "   'value': 'gs://tfxca-pipeline-artifacts'},\n",
       "  {'name': 'seed_pattern', 'value': 'meni|avw2'}],\n",
       " 'url': None,\n",
       " 'error': None,\n",
       " 'default_version': {'id': '3f814ae1-12e0-4ae6-8b6e-e9ff5d8806fd',\n",
       "  'name': 'TFX Crafted Audience',\n",
       "  'created_at': datetime.datetime(2020, 12, 8, 15, 57, 10, tzinfo=tzlocal()),\n",
       "  'parameters': [{'name': 'pipeline-root',\n",
       "    'value': 'gs://tfxca-pipeline-artifacts'},\n",
       "   {'name': 'seed_pattern', 'value': 'meni|avw2'}],\n",
       "  'code_source_url': None,\n",
       "  'package_url': None,\n",
       "  'resource_references': [{'key': {'type': 'PIPELINE',\n",
       "     'id': '3f814ae1-12e0-4ae6-8b6e-e9ff5d8806fd'},\n",
       "    'name': None,\n",
       "    'relationship': 'OWNER'}]}}"
      ]
     },
     "metadata": {},
     "execution_count": 30
    }
   ],
   "source": [
    "my_pipeline"
   ]
  },
  {
   "cell_type": "code",
   "execution_count": 28,
   "metadata": {},
   "outputs": [
    {
     "output_type": "display_data",
     "data": {
      "text/plain": "<IPython.core.display.HTML object>",
      "text/html": "<a href=\"http://3fad3dc513a320a4-dot-us-central2.pipelines.googleusercontent.com//#/experiments/details/2765b66c-4c5b-4416-867f-34127d1abd15\" target=\"_blank\" >Experiment details</a>."
     },
     "metadata": {}
    },
    {
     "output_type": "execute_result",
     "data": {
      "text/plain": [
       "{'created_at': datetime.datetime(2020, 12, 8, 14, 49, 21, tzinfo=tzlocal()),\n",
       " 'description': 'A test experiment',\n",
       " 'id': '2765b66c-4c5b-4416-867f-34127d1abd15',\n",
       " 'name': 'My Experiment',\n",
       " 'resource_references': None,\n",
       " 'storage_state': 'STORAGESTATE_AVAILABLE'}"
      ]
     },
     "metadata": {},
     "execution_count": 28
    }
   ],
   "source": [
    "client.create_experiment(\"My Experiment\", description=\"A test experiment\")"
   ]
  },
  {
   "cell_type": "code",
   "execution_count": 58,
   "metadata": {},
   "outputs": [],
   "source": [
    "my_exp = client.get_experiment(experiment_name=\"My Experiment\")"
   ]
  },
  {
   "cell_type": "code",
   "execution_count": 59,
   "metadata": {},
   "outputs": [
    {
     "output_type": "execute_result",
     "data": {
      "text/plain": [
       "{'created_at': datetime.datetime(2020, 12, 8, 14, 49, 21, tzinfo=tzlocal()),\n",
       " 'description': 'A test experiment',\n",
       " 'id': '2765b66c-4c5b-4416-867f-34127d1abd15',\n",
       " 'name': 'My Experiment',\n",
       " 'resource_references': None,\n",
       " 'storage_state': 'STORAGESTATE_AVAILABLE'}"
      ]
     },
     "metadata": {},
     "execution_count": 59
    }
   ],
   "source": [
    "my_exp"
   ]
  },
  {
   "cell_type": "code",
   "execution_count": 41,
   "metadata": {},
   "outputs": [
    {
     "output_type": "display_data",
     "data": {
      "text/plain": "<IPython.core.display.HTML object>",
      "text/html": "Experiment link <a href=\"http://3fad3dc513a320a4-dot-us-central2.pipelines.googleusercontent.com//#/experiments/details/7a4f18cf-9c3d-4cd1-9608-c6709b6297ab\" target=\"_blank\" >here</a>"
     },
     "metadata": {}
    }
   ],
   "source": [
    "pipelines = client.list_pipelines()\n",
    "tfx_ca_exp = client.create_experiment(\"tfx_ca\", description=\"Test Crafted Audiences\")\n",
    "my_pipeline = [x for i, x in enumerate(pipelines.to_dict()['pipelines']) if x['name']==\"TFX Crafted Audience\"][0]"
   ]
  },
  {
   "cell_type": "code",
   "execution_count": 77,
   "metadata": {},
   "outputs": [],
   "source": [
    "wedding_recurring_run = client.create_recurring_run(experiment_id = tfx_ca_exp.id,\n",
    "    job_name=\"Offer 8206 - Wedding Planning v0\",\n",
    "    description=\"Seeds=cjbq,fzdx,bzck\",\n",
    "    pipeline_id=my_pipeline['id'],\n",
    "    # interval_second=(60*60),\n",
    "    cron_expression='*/60 * * * *',\n",
    "    params={\n",
    "        'pipeline-root':'gs://tfxca-pipeline-artifacts',\n",
    "        'seed_pattern':'cjbq|fzdx|bzck'\n",
    "    },\n",
    "    start_time=(datetime.datetime.utcnow() + datetime.timedelta(seconds=120)).isoformat()+'Z',\n",
    "    end_time=(datetime.datetime.utcnow() + datetime.timedelta(seconds=(60*60))).isoformat()+'Z',\n",
    "    enabled=True,\n",
    "    max_concurrency=1\n",
    "    )"
   ]
  },
  {
   "cell_type": "code",
   "execution_count": 76,
   "metadata": {},
   "outputs": [],
   "source": [
    "millennial_media_recurring_run = client.create_recurring_run(experiment_id = tfx_ca_exp.id,\n",
    "    job_name=\"Offer 7608 - Millennial Media v0\",\n",
    "    description=\"Seeds=4sk|dwbo|xupk\",\n",
    "    pipeline_id=my_pipeline['id'],\n",
    "    # interval_second=(60*60),\n",
    "    cron_expression='*/60 * * * *',\n",
    "    params={\n",
    "        'pipeline-root':'gs://tfxca-pipeline-artifacts',\n",
    "        'seed_pattern':'4sk|dwbo|xupk'\n",
    "    },\n",
    "    start_time=(datetime.datetime.utcnow() + datetime.timedelta(seconds=120)).isoformat()+'Z',\n",
    "    end_time=(datetime.datetime.utcnow() + datetime.timedelta(seconds=(60*60))).isoformat()+'Z',\n",
    "    enabled=True,\n",
    "    max_concurrency=1\n",
    "    )"
   ]
  },
  {
   "cell_type": "code",
   "execution_count": 74,
   "metadata": {},
   "outputs": [],
   "source": [
    "music_fans_recurring_run = client.create_recurring_run(experiment_id = tfx_ca_exp.id,\n",
    "    job_name=\"Offer 7454 - Music Fans v0\",\n",
    "    description=\"Seeds=ff3r|ckxv\",\n",
    "    pipeline_id=my_pipeline['id'],\n",
    "    # interval_second=(60*60),\n",
    "    cron_expression='*/60 * * * *',\n",
    "    params={\n",
    "        'pipeline-root':'gs://tfxca-pipeline-artifacts',\n",
    "        'seed_pattern':'ff3r|ckxv'\n",
    "    },\n",
    "    start_time=(datetime.datetime.utcnow() + datetime.timedelta(seconds=120)).isoformat()+'Z',\n",
    "    end_time=(datetime.datetime.utcnow() + datetime.timedelta(seconds=(60*60))).isoformat()+'Z',\n",
    "    enabled=True,\n",
    "    max_concurrency=1\n",
    "    )"
   ]
  },
  {
   "cell_type": "code",
   "execution_count": 75,
   "metadata": {},
   "outputs": [
    {
     "output_type": "stream",
     "name": "stdout",
     "text": [
      "id: d61b6a9c-37a9-4d88-aea1-02ebd4ad9c33\nname: Offer 8206 - Wedding Planning v0\ndescription: Seeds=cjbq,fzdx,bzck\nresource_references: [{'key': {'type': 'PIPELINE_VERSION', 'id': '3f814ae1-12e0-4ae6-8b6e-e9ff5d8806fd'}, 'name': 'TFX Crafted Audience', 'relationship': 'CREATOR'}, {'key': {'type': 'EXPERIMENT', 'id': '7a4f18cf-9c3d-4cd1-9608-c6709b6297ab'}, 'name': 'tfx_ca', 'relationship': 'OWNER'}]\nservice_account: pipeline-runner\nmax_concurrency: 10\ntrigger: {'cron_schedule': {'start_time': datetime.datetime(2020, 12, 8, 18, 18, 33, tzinfo=tzlocal()), 'end_time': datetime.datetime(2020, 12, 8, 19, 16, 33, tzinfo=tzlocal()), 'cron': '*/60 * * * *'}, 'periodic_schedule': None}\nmode: None\ncreated_at: 2020-12-08 18:16:34+00:00\nupdated_at: 2020-12-08 18:54:01+00:00\nstatus: Enabled\nerror: None\nenabled: True\nno_catchup: None\n\n\nid: 77f9a118-aa5d-4de7-9354-e2e65fc7361e\nname: Offer 7608 - Millennial Media v0\ndescription: Seeds=4sk|dwbo|xupk\nresource_references: [{'key': {'type': 'PIPELINE_VERSION', 'id': '3f814ae1-12e0-4ae6-8b6e-e9ff5d8806fd'}, 'name': 'TFX Crafted Audience', 'relationship': 'CREATOR'}, {'key': {'type': 'EXPERIMENT', 'id': '7a4f18cf-9c3d-4cd1-9608-c6709b6297ab'}, 'name': 'tfx_ca', 'relationship': 'OWNER'}]\nservice_account: pipeline-runner\nmax_concurrency: 10\ntrigger: {'cron_schedule': {'start_time': datetime.datetime(2020, 12, 8, 18, 18, 41, tzinfo=tzlocal()), 'end_time': datetime.datetime(2020, 12, 8, 19, 16, 41, tzinfo=tzlocal()), 'cron': '*/60 * * * *'}, 'periodic_schedule': None}\nmode: None\ncreated_at: 2020-12-08 18:16:42+00:00\nupdated_at: 2020-12-08 18:53:47+00:00\nstatus: Enabled\nerror: None\nenabled: True\nno_catchup: None\n\n\nid: f4fcc4d3-8138-434e-af19-be766e2d8315\nname: Offer 7454 - Music Fans v0\ndescription: Seeds=ff3r|ckxv\nresource_references: [{'key': {'type': 'PIPELINE_VERSION', 'id': '3f814ae1-12e0-4ae6-8b6e-e9ff5d8806fd'}, 'name': 'TFX Crafted Audience', 'relationship': 'CREATOR'}, {'key': {'type': 'EXPERIMENT', 'id': '7a4f18cf-9c3d-4cd1-9608-c6709b6297ab'}, 'name': 'tfx_ca', 'relationship': 'OWNER'}]\nservice_account: pipeline-runner\nmax_concurrency: 1\ntrigger: {'cron_schedule': {'start_time': datetime.datetime(2020, 12, 8, 18, 55, 56, tzinfo=tzlocal()), 'end_time': datetime.datetime(2020, 12, 8, 19, 53, 56, tzinfo=tzlocal()), 'cron': '*/60 * * * *'}, 'periodic_schedule': None}\nmode: None\ncreated_at: 2020-12-08 18:53:56+00:00\nupdated_at: 2020-12-08 18:53:56+00:00\nstatus: NO_STATUS\nerror: None\nenabled: True\nno_catchup: None\n\n\n"
     ]
    }
   ],
   "source": [
    "recurring_runs = client.list_recurring_runs()\n",
    "for x in recurring_runs.to_dict()['jobs']:\n",
    "    for y in x.keys():\n",
    "        if y != 'pipeline_spec':\n",
    "            # print(x)\n",
    "            print(f\"{y}: {x[y]}\")\n",
    "    print('\\n')\n"
   ]
  },
  {
   "cell_type": "code",
   "execution_count": 44,
   "metadata": {},
   "outputs": [
    {
     "output_type": "execute_result",
     "data": {
      "text/plain": [
       "{}"
      ]
     },
     "metadata": {},
     "execution_count": 44
    }
   ],
   "source": [
    "client.jobs.disable_job('ac38a701-6848-4639-b0f2-945ad53f238c')"
   ]
  },
  {
   "cell_type": "code",
   "execution_count": 90,
   "metadata": {},
   "outputs": [],
   "source": [
    "all_runs = client.list_runs()"
   ]
  },
  {
   "cell_type": "code",
   "execution_count": 88,
   "metadata": {},
   "outputs": [],
   "source": [
    "all_runs_ids = [x.id for x in all_runs.runs]"
   ]
  },
  {
   "cell_type": "code",
   "execution_count": 86,
   "metadata": {},
   "outputs": [],
   "source": [
    "for id in all_runs_ids:\n",
    "    client.runs.delete_run(id)"
   ]
  },
  {
   "cell_type": "code",
   "execution_count": null,
   "metadata": {},
   "outputs": [],
   "source": []
  }
 ]
}